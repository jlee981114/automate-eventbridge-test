{
 "cells": [
  {
   "cell_type": "code",
   "execution_count": null,
   "metadata": {},
   "outputs": [],
   "source": [
    "# Install necessary libraries\n",
    "!pip install boto3 sagemaker pandas scikit-learn\n",
    "\n",
    "# Import necessary libraries\n",
    "import boto3\n",
    "import pandas as pd\n",
    "import io\n",
    "import json\n",
    "from datetime import datetime\n",
    "\n",
    "# Define the SageMaker endpoint name and region\n",
    "endpoint_name = 'simple-linear-regression-endpoint'\n",
    "region_name = 'us-east-1'\n",
    "s3_bucket = 'justin-automation-output'  # Replace with your S3 bucket name for inference results\n",
    "\n",
    "# Function to invoke the SageMaker endpoint\n",
    "def invoke_endpoint(payload):\n",
    "    client = boto3.client('sagemaker-runtime', region_name=region_name)\n",
    "    response = client.invoke_endpoint(\n",
    "        EndpointName=endpoint_name,\n",
    "        Body=json.dumps(payload),\n",
    "        ContentType='application/json'\n",
    "    )\n",
    "    result = json.loads(response['Body'].read().decode())\n",
    "    return result\n",
    "\n",
    "# Test the function with a sample payload\n",
    "payload = {\"data\": [[8.3252, 41.0, 6.984127, 1.023810, 322.0, 2.555556, 37.88, -122.23]]}  # Example input\n",
    "result = invoke_endpoint(payload)\n",
    "print(\"Inference result:\", result)\n",
    "\n",
    "# Convert the result to a pandas DataFrame\n",
    "inference_data = {\n",
    "    \"input\": [payload[\"data\"]],\n",
    "    \"prediction\": [result]\n",
    "}\n",
    "df = pd.DataFrame(inference_data)\n",
    "\n",
    "# Save the DataFrame as a CSV file\n",
    "csv_buffer = io.StringIO()\n",
    "df.to_csv(csv_buffer, index=False)\n",
    "\n",
    "# Upload the CSV file to S3\n",
    "csv_file_name = f'inferences_{datetime.now().strftime(\"%Y%m%d%H%M%S\")}.csv'\n",
    "s3_client = boto3.client('s3', region_name=region_name)\n",
    "s3_client.put_object(\n",
    "    Bucket=s3_bucket,\n",
    "    Key=csv_file_name,\n",
    "    Body=csv_buffer.getvalue()\n",
    ")\n",
    "\n",
    "print(f\"Inference results saved to S3 bucket '{s3_bucket}' with file name '{csv_file_name}'.\")\n"
   ]
  }
 ],
 "metadata": {
  "kernelspec": {
   "display_name": "Python 3.8.12 ('tf-gpu-cuda8')",
   "language": "python",
   "name": "python3"
  },
  "language_info": {
   "codemirror_mode": {
    "name": "ipython",
    "version": 3
   },
   "file_extension": ".py",
   "mimetype": "text/x-python",
   "name": "python",
   "nbconvert_exporter": "python",
   "pygments_lexer": "ipython3",
   "version": "3.8.12"
  },
  "orig_nbformat": 4,
  "vscode": {
   "interpreter": {
    "hash": "7fe8e7156b155a9f3c09b83080291bb1bd38144b8399c123115114f3487f3b24"
   }
  }
 },
 "nbformat": 4,
 "nbformat_minor": 2
}
