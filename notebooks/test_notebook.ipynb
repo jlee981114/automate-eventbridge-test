{
 "cells": [
  {
   "cell_type": "code",
   "execution_count": null,
   "metadata": {},
   "outputs": [],
   "source": [
    "import boto3\n",
    "import json\n",
    "import pandas as pd\n",
    "from datetime import datetime\n",
    "import io\n",
    "\n",
    "endpoint_name = 'simple-linear-regression-endpoint'  # Replace with your actual SageMaker endpoint name\n",
    "\n",
    "def invoke_endpoint(payload):\n",
    "    client = boto3.client('sagemaker-runtime')\n",
    "    response = client.invoke_endpoint(\n",
    "        EndpointName=endpoint_name,\n",
    "        Body=json.dumps(payload),\n",
    "        ContentType='application/json'\n",
    "    )\n",
    "    result = json.loads(response['Body'].read().decode())\n",
    "    return result\n",
    "\n",
    "# Test the function\n",
    "payload = {\"data\": [[0.00632, 18.00, 2.31, 0.0, 0.538, 6.575, 65.2, 4.0900, 1, 296.0, 15.3, 396.90, 4.98]]}  # Example input\n",
    "result = invoke_endpoint(payload)\n",
    "print(\"Inference result:\", result)\n",
    "\n",
    "\n",
    "# Convert the result to a pandas DataFrame\n",
    "inference_data = {\n",
    "    \"input\": [payload[\"data\"]],\n",
    "    \"prediction\": [result]\n",
    "}\n",
    "df = pd.DataFrame(inference_data)\n",
    "\n",
    "# Save the DataFrame as a CSV file\n",
    "csv_buffer = io.StringIO()\n",
    "df.to_csv(csv_buffer, index=False)\n",
    "\n",
    "# Upload the CSV file to S3\n",
    "s3_client = boto3.client('s3')\n",
    "bucket_name = 'justin-automation-output'\n",
    "csv_file_name = f'inferences_{datetime.now().strftime(\"%Y%m%d%H%M%S\")}.csv'\n",
    "\n",
    "s3_client.put_object(\n",
    "    Bucket=bucket_name,\n",
    "    Key=csv_file_name,\n",
    "    Body=csv_buffer.getvalue()\n",
    ")\n",
    "\n",
    "print(f\"Inference results saved to S3 bucket '{bucket_name}' with file name '{csv_file_name}'.\")"
   ]
  }
 ],
 "metadata": {
  "kernelspec": {
   "display_name": "Python 3.8.12 ('tf-gpu-cuda8')",
   "language": "python",
   "name": "python3"
  },
  "language_info": {
   "codemirror_mode": {
    "name": "ipython",
    "version": 3
   },
   "file_extension": ".py",
   "mimetype": "text/x-python",
   "name": "python",
   "nbconvert_exporter": "python",
   "pygments_lexer": "ipython3",
   "version": "3.8.12"
  },
  "orig_nbformat": 4,
  "vscode": {
   "interpreter": {
    "hash": "7fe8e7156b155a9f3c09b83080291bb1bd38144b8399c123115114f3487f3b24"
   }
  }
 },
 "nbformat": 4,
 "nbformat_minor": 2
}
