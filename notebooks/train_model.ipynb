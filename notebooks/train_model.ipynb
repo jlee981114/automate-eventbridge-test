{
 "cells": [
  {
   "cell_type": "code",
   "execution_count": 4,
   "metadata": {},
   "outputs": [
    {
     "name": "stdout",
     "output_type": "stream",
     "text": [
      "Cleared cache at C:\\Users\\Admin\\scikit_learn_data\n",
      "Model saved to s3://justin-inferences/model/model.tar.gz and locally at ../models/model.tar.gz\n"
     ]
    }
   ],
   "source": [
    "# Install necessary libraries\n",
    "# !pip install boto3 sagemaker pandas scikit-learn\n",
    "\n",
    "# Import necessary libraries\n",
    "import pandas as pd\n",
    "import boto3\n",
    "import pickle\n",
    "import os\n",
    "import tarfile\n",
    "from sklearn.linear_model import LinearRegression\n",
    "from sklearn.model_selection import train_test_split\n",
    "from sklearn.datasets import fetch_california_housing\n",
    "import shutil\n",
    "\n",
    "# Define S3 bucket and output paths\n",
    "s3_bucket = 'justin-inferences'  # Replace with your S3 bucket name for checkpoints and model-related things\n",
    "model_local_path = '../models/model.pkl'\n",
    "tar_gz_local_path = '../models/model.tar.gz'\n",
    "model_artifact_path = 's3://{}/model/model.tar.gz'.format(s3_bucket)\n",
    "\n",
    "# Clear the cache by removing the cache directory\n",
    "cache_dir = os.path.join(os.path.expanduser(\"~\"), \"scikit_learn_data\")\n",
    "if os.path.exists(cache_dir):\n",
    "    shutil.rmtree(cache_dir)\n",
    "    print(f\"Cleared cache at {cache_dir}\")\n",
    "\n",
    "# Load and prepare your training data\n",
    "california = fetch_california_housing()\n",
    "X, y = pd.DataFrame(california.data, columns=california.feature_names), pd.Series(california.target)\n",
    "\n",
    "# Split the data into training and testing sets\n",
    "X_train, X_test, y_train, y_test = train_test_split(X, y, test_size=0.2, random_state=42)\n",
    "\n",
    "# Train the model\n",
    "model = LinearRegression()\n",
    "model.fit(X_train, y_train)\n",
    "\n",
    "# Save the model to a file locally\n",
    "os.makedirs('../models', exist_ok=True)\n",
    "with open(model_local_path, 'wb') as f:\n",
    "    pickle.dump(model, f)\n",
    "\n",
    "# Create a tar.gz file\n",
    "with tarfile.open(tar_gz_local_path, \"w:gz\") as tar:\n",
    "    tar.add(model_local_path, arcname=os.path.basename(model_local_path))\n",
    "\n",
    "# Upload the tar.gz file to S3\n",
    "s3 = boto3.client('s3', region_name='us-east-1')\n",
    "s3.upload_file(tar_gz_local_path, s3_bucket, 'model/model.tar.gz')\n",
    "\n",
    "print(f\"Model saved to {model_artifact_path} and locally at {tar_gz_local_path}\")\n"
   ]
  }
 ],
 "metadata": {
  "kernelspec": {
   "display_name": "Python 3.8.5 ('base')",
   "language": "python",
   "name": "python3"
  },
  "language_info": {
   "codemirror_mode": {
    "name": "ipython",
    "version": 3
   },
   "file_extension": ".py",
   "mimetype": "text/x-python",
   "name": "python",
   "nbconvert_exporter": "python",
   "pygments_lexer": "ipython3",
   "version": "3.8.5"
  },
  "orig_nbformat": 4,
  "vscode": {
   "interpreter": {
    "hash": "2043299c89c8cd0b4d1a6f5cf4529bd58e6a4e0fe3181a25e0d328c821cdc5c5"
   }
  }
 },
 "nbformat": 4,
 "nbformat_minor": 2
}
