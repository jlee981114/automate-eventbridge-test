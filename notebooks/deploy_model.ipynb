{
 "cells": [
  {
   "cell_type": "code",
   "execution_count": 4,
   "metadata": {},
   "outputs": [
    {
     "name": "stdout",
     "output_type": "stream",
     "text": [
      "-------!Model deployed to endpoint: justin-linear-regression-endpoint\n"
     ]
    }
   ],
   "source": [
    "# Install necessary libraries\n",
    "# !pip install boto3 sagemaker pandas scikit-learn\n",
    "\n",
    "# Import necessary libraries\n",
    "import boto3\n",
    "import sagemaker\n",
    "from sagemaker.sklearn import SKLearnModel\n",
    "import os\n",
    "\n",
    "# Define variables\n",
    "s3_bucket = 'justin-inferences'  # Replace with your S3 bucket name\n",
    "model_artifact_path = 's3://{}/model/model.tar.gz'.format(s3_bucket)\n",
    "role = 'arn:aws:iam::728939754004:role/service-role/AmazonSageMaker-ExecutionRole-20230821T133341'  # Replace with your SageMaker execution role ARN\n",
    "region = 'us-east-1'\n",
    "endpoint_name = 'justin-linear-regression-endpoint' # Replace with your name for endpoint name you want to create\n",
    "\n",
    "# Initialize the SageMaker session\n",
    "sagemaker_session = sagemaker.Session()\n",
    "s3 = boto3.client('s3', region_name=region)\n",
    "\n",
    "# Define the SKLearn model\n",
    "model = SKLearnModel(model_data=model_artifact_path,\n",
    "                     role=role,\n",
    "                     entry_point='inference.py',  # Replace with your inference script name\n",
    "                     framework_version='0.23-1',\n",
    "                     py_version='py3',\n",
    "                     sagemaker_session=sagemaker_session)\n",
    "\n",
    "# Deploy the model\n",
    "predictor = model.deploy(initial_instance_count=1,\n",
    "                         instance_type='ml.m5.large',\n",
    "                         endpoint_name=endpoint_name)\n",
    "\n",
    "print(f\"Model deployed to endpoint: {endpoint_name}\")\n",
    "\n",
    "# To update the model, you can delete the existing endpoint and redeploy\n",
    "def update_model():\n",
    "    print(\"Updating model...\")\n",
    "    # Delete the existing endpoint\n",
    "    predictor.delete_endpoint()\n",
    "\n",
    "    # Deploy the updated model\n",
    "    predictor = model.deploy(initial_instance_count=1,\n",
    "                             instance_type='ml.m5.large',\n",
    "                             endpoint_name=endpoint_name)\n",
    "    print(f\"Model updated at endpoint: {endpoint_name}\")\n",
    "\n",
    "# Run this line below if you need to update the endpoint\n",
    "# update_model()\n"
   ]
  }
 ],
 "metadata": {
  "kernelspec": {
   "display_name": "Python 3.8.12 ('tf-gpu-cuda8')",
   "language": "python",
   "name": "python3"
  },
  "language_info": {
   "codemirror_mode": {
    "name": "ipython",
    "version": 3
   },
   "file_extension": ".py",
   "mimetype": "text/x-python",
   "name": "python",
   "nbconvert_exporter": "python",
   "pygments_lexer": "ipython3",
   "version": "3.8.12"
  },
  "orig_nbformat": 4,
  "vscode": {
   "interpreter": {
    "hash": "7fe8e7156b155a9f3c09b83080291bb1bd38144b8399c123115114f3487f3b24"
   }
  }
 },
 "nbformat": 4,
 "nbformat_minor": 2
}
