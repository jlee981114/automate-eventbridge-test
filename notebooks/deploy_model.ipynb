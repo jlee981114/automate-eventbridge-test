{
 "cells": [
  {
   "cell_type": "code",
   "execution_count": null,
   "metadata": {},
   "outputs": [],
   "source": [
    "import boto3\n",
    "from sagemaker import get_execution_role\n",
    "import time\n",
    "\n",
    "sagemaker_client = boto3.client('sagemaker')\n",
    "role = get_execution_role()\n",
    "\n",
    "model_name = 'simple-linear-regression-model'\n",
    "bucket_name = 'justin-lambda-functions-bucket'\n",
    "model_artifact_path = f's3://{bucket_name}/model/model.tar.gz'\n",
    "container_image = '683313688378.dkr.ecr.us-west-2.amazonaws.com/linear-learner:latest'  # Example container for linear regression\n",
    "\n",
    "# Create a SageMaker model\n",
    "response = sagemaker_client.create_model(\n",
    "    ModelName=model_name,\n",
    "    PrimaryContainer={\n",
    "        'Image': container_image,\n",
    "        'ModelDataUrl': model_artifact_path\n",
    "    },\n",
    "    ExecutionRoleArn=role\n",
    ")\n",
    "print(\"Model created:\", response)\n",
    "\n",
    "# Create an endpoint configuration\n",
    "endpoint_config_name = 'simple-linear-regression-endpoint-config'\n",
    "response = sagemaker_client.create_endpoint_config(\n",
    "    EndpointConfigName=endpoint_config_name,\n",
    "    ProductionVariants=[\n",
    "        {\n",
    "            'VariantName': 'AllTraffic',\n",
    "            'ModelName': model_name,\n",
    "            'InstanceType': 'ml.m4.xlarge',\n",
    "            'InitialInstanceCount': 1\n",
    "        }\n",
    "    ]\n",
    ")\n",
    "print(\"Endpoint configuration created:\", response)\n",
    "\n",
    "# Create an endpoint\n",
    "endpoint_name = 'simple-linear-regression-endpoint'\n",
    "response = sagemaker_client.create_endpoint(\n",
    "    EndpointName=endpoint_name,\n",
    "    EndpointConfigName=endpoint_config_name\n",
    ")\n",
    "print(\"Endpoint creation initiated:\", response)\n",
    "\n",
    "# Wait for the endpoint to be in service\n",
    "status = sagemaker_client.describe_endpoint(EndpointName=endpoint_name)\n",
    "while status['EndpointStatus'] != 'InService':\n",
    "    print('Endpoint status:', status['EndpointStatus'])\n",
    "    time.sleep(30)\n",
    "    status = sagemaker_client.describe_endpoint(EndpointName=endpoint_name)\n",
    "\n",
    "print('Endpoint status:', status['EndpointStatus'])\n"
   ]
  }
 ],
 "metadata": {
  "kernelspec": {
   "display_name": "Python 3.8.12 ('tf-gpu-cuda8')",
   "language": "python",
   "name": "python3"
  },
  "language_info": {
   "name": "python",
   "version": "3.8.12"
  },
  "orig_nbformat": 4,
  "vscode": {
   "interpreter": {
    "hash": "7fe8e7156b155a9f3c09b83080291bb1bd38144b8399c123115114f3487f3b24"
   }
  }
 },
 "nbformat": 4,
 "nbformat_minor": 2
}
